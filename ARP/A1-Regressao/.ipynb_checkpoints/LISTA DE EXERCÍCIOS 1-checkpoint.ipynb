{
 "cells": [
  {
   "cell_type": "markdown",
   "metadata": {},
   "source": [
    "# LISTA DE EXERCÍCIOS 1 – REGRESSÃO"
   ]
  },
  {
   "cell_type": "markdown",
   "metadata": {},
   "source": [
    "> Os exercícios abaixo referem-se a base de dados “Risco de ataque cardíaco”"
   ]
  },
  {
   "cell_type": "markdown",
   "metadata": {},
   "source": [
    "1) Obtenha o modelo utilizando os 10 primeiros exemplos da base de dados. Calcule e apresente o erro quadrático médio aplicando o modelo de regressão nos mesmos 10 primeiros exemplos da base de dados. Depois calcule e apresente o erro quadrático médio do modelo de regressão obtido nos demais exemplos. Argumente se o modelo tem ou não uma boa capacidade de predição em novos exemplos."
   ]
  },
  {
   "cell_type": "markdown",
   "metadata": {},
   "source": [
    "* Y = modelo\n",
    "* Y = B0+B1 * X + E\n",
    "* B1 = SOMA(X*Y)/SOMA(X*X)\n",
    "* B0 = MEDIA(Y) - B1 * MEDIA (X)\n",
    "* R² = (Exy)² / ExxEyy\n",
    "* EQM: SOMA(Erros)² / N\n"
   ]
  },
  {
   "cell_type": "code",
   "execution_count": 136,
   "metadata": {
    "collapsed": false
   },
   "outputs": [
    {
     "name": "stdout",
     "output_type": "stream",
     "text": [
      "   Idade  ProbAtaqueCardiaco   X*Y\n",
      "0     10                0.05  0.50\n",
      "1     12                0.06  0.72\n",
      "2     14                0.07  0.98\n",
      "3     16                0.08  1.28\n",
      "4     18                0.10  1.80\n",
      "5     20                0.10  2.00\n",
      "6     22                0.11  2.42\n",
      "7     24                0.12  2.88\n",
      "8     26                0.12  3.12\n",
      "9     28                0.12  3.36\n",
      "Somatório de X*Y: 19.06\n",
      "Text(0,0.5,'Р = 1.5')\n"
     ]
    }
   ],
   "source": [
    "import pandas as pd\n",
    "import numpy as np\n",
    "import matplotlib\n",
    "\n",
    "import matplotlib.pyplot as plt\n",
    "\n",
    "df = []\n",
    "\n",
    "def formatColumns(df):\n",
    "    df['ProbAtaqueCardiaco'] = df['ProbAtaqueCardiaco'].str.replace(',', '.').astype('str').astype(float)\n",
    "    return df\n",
    "\n",
    "def readFile(fileName):\n",
    "    return formatColumns(pd.read_csv(fileName, sep=\";\"))\n",
    "\n",
    "def estimateXY():\n",
    "    df['X*Y'] = df['Idade'] * df['ProbAtaqueCardiaco']\n",
    "\n",
    "def estimateModel():\n",
    "    estimateXY()\n",
    "    b0 = ''\n",
    "    b1 = ''\n",
    "    print(df)\n",
    "            \n",
    "df = readFile('csv/risco_ataque_cardiaco.csv').iloc[:10]\n",
    "estimateModel()\n",
    "\n",
    "print(\"Somatório de X*Y: \"+str(df['X*Y'].sum()))\n",
    "plt.xlabel(u'\\u03bc = 50')\n",
    "print(plt.ylabel(u'\\u0420 = 1.5'))"
   ]
  }
 ],
 "metadata": {
  "kernelspec": {
   "display_name": "Python 3",
   "language": "python",
   "name": "python3"
  },
  "language_info": {
   "codemirror_mode": {
    "name": "ipython",
    "version": 3
   },
   "file_extension": ".py",
   "mimetype": "text/x-python",
   "name": "python",
   "nbconvert_exporter": "python",
   "pygments_lexer": "ipython3",
   "version": "3.6.0"
  }
 },
 "nbformat": 4,
 "nbformat_minor": 2
}
